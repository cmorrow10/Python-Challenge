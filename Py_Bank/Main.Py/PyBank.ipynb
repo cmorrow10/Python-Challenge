{
 "cells": [
  {
   "cell_type": "code",
   "execution_count": null,
   "id": "04c9ef50",
   "metadata": {},
   "outputs": [],
   "source": [
    "import csv"
   ]
  },
  {
   "cell_type": "code",
   "execution_count": null,
   "id": "41170c3b",
   "metadata": {},
   "outputs": [],
   "source": [
    "file = open('budget_data.csv')\n",
    "\n",
    "type(file)"
   ]
  },
  {
   "cell_type": "code",
   "execution_count": null,
   "id": "debbd6a4",
   "metadata": {},
   "outputs": [],
   "source": [
    "csvreader = csv.reader(file)"
   ]
  },
  {
   "cell_type": "code",
   "execution_count": null,
   "id": "50952d9d",
   "metadata": {},
   "outputs": [],
   "source": [
    "csvreader = csv.reader(file, delimiter=',')\n",
    "csvheader = next(csvreader)\n",
    "\n",
    "total_months = 0\n",
    "total = 0\n",
    "second_row = 0\n",
    "first_row = 0\n",
    "month_change = 0\n",
    "total_month_change = []\n",
    "date = []"
   ]
  },
  {
   "cell_type": "code",
   "execution_count": null,
   "id": "4d31863b",
   "metadata": {},
   "outputs": [],
   "source": [
    "for row in csvreader:\n",
    "\n",
    "    total_months += 1\n",
    "first_row = int(row[1])\n",
    "total += int(row[1])"
   ]
  },
  {
   "cell_type": "code",
   "execution_count": null,
   "id": "445d0e66",
   "metadata": {},
   "outputs": [],
   "source": [
    "if (total_months==1):\n",
    "    second_row = first_row"
   ]
  },
  {
   "cell_type": "code",
   "execution_count": null,
   "id": "86601fee",
   "metadata": {},
   "outputs": [],
   "source": [
    "month_change = first_row - second_row\n",
    "date.append(row[0])\n",
    "total_month_change.append(month_change)\n",
    "second_row = first_row\n",
    "average = round(sum(total_month_change)/(total_months - 1), 2)"
   ]
  },
  {
   "cell_type": "code",
   "execution_count": null,
   "id": "9483ddc3",
   "metadata": {},
   "outputs": [],
   "source": [
    "greatest_increase = max(total_month_change)\n",
    "greatest_decrease = min(total_month_change)\n",
    "increase_date = date[total_month_change.index(greatest_increase)]\n",
    "decrease_date = date[total_month_change.index(greatest_decrease)]"
   ]
  },
  {
   "cell_type": "code",
   "execution_count": null,
   "id": "8d3604fb",
   "metadata": {
    "scrolled": false
   },
   "outputs": [],
   "source": [
    "print(f\"Financial Analysis\")\n",
    "print(f\"----------------------------\")\n",
    "print(f\"Total Months: {total_months}\")\n",
    "print(f\"Total: ${total}\")\n",
    "print(f\"Average Change: ${average}\")\n",
    "print(f\"Greatest Increase in Profits: {increase_date}(${greatest_increase})\")\n",
    "print(f\"Greatest Decrease in Profits: {decrease_date}(${greatest_decrease})\")"
   ]
  },
  {
   "cell_type": "code",
   "execution_count": null,
   "id": "c0b20286",
   "metadata": {},
   "outputs": [],
   "source": []
  }
 ],
 "metadata": {
  "kernelspec": {
   "display_name": "Python 3 (ipykernel)",
   "language": "python",
   "name": "python3"
  },
  "language_info": {
   "codemirror_mode": {
    "name": "ipython",
    "version": 3
   },
   "file_extension": ".py",
   "mimetype": "text/x-python",
   "name": "python",
   "nbconvert_exporter": "python",
   "pygments_lexer": "ipython3",
   "version": "3.9.12"
  }
 },
 "nbformat": 4,
 "nbformat_minor": 5
}
